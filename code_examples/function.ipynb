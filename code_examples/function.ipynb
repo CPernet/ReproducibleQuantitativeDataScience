{
 "cells": [
  {
   "cell_type": "code",
   "execution_count": null,
   "outputs": [],
   "source": [
    "# calculate wpm per trial\n",
    "# from pypl: The WPM is calculated by dividing characters per second by five and then multiplying that with 60.\n",
    "\n",
    "def calculate_wpm(row):\n",
    "    characters_typed = len(row['entered']) # num of characters typed\n",
    "    time_taken_sec = row['end_time'] - row['start_time'] # time taken\n",
    "    wpm = ((characters_typed / time_taken_sec) / 5) * 60 # wpm \n",
    "    return wpm"
   ],
   "metadata": {
    "collapsed": false
   },
   "id": "8684f8c6e92b9807"
  }
 ],
 "metadata": {
  "kernelspec": {
   "display_name": "Python 3",
   "language": "python",
   "name": "python3"
  },
  "language_info": {
   "codemirror_mode": {
    "name": "ipython",
    "version": 2
   },
   "file_extension": ".py",
   "mimetype": "text/x-python",
   "name": "python",
   "nbconvert_exporter": "python",
   "pygments_lexer": "ipython2",
   "version": "2.7.6"
  }
 },
 "nbformat": 4,
 "nbformat_minor": 5
}

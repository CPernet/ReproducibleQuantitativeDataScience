{
  "nbformat": 4,
  "nbformat_minor": 0,
  "metadata": {
    "colab": {
      "provenance": [],
      "authorship_tag": "ABX9TyMa1v4H4Kvc0fjrHMJC3jR/",
      "include_colab_link": true
    },
    "kernelspec": {
      "name": "python3",
      "display_name": "Python 3"
    },
    "language_info": {
      "name": "python"
    }
  },
  "cells": [
    {
      "cell_type": "markdown",
      "metadata": {
        "id": "view-in-github",
        "colab_type": "text"
      },
      "source": [
        "<a href=\"https://colab.research.google.com/github/CPernet/ReproducibleQuantitativeDataScience/blob/main/ProvenanceInPractice_solution.ipynb\" target=\"_parent\"><img src=\"https://colab.research.google.com/assets/colab-badge.svg\" alt=\"Open In Colab\"/></a>"
      ]
    },
    {
      "cell_type": "markdown",
      "source": [
        "# Provenance in Practice\n",
        "\n",
        "Let's make a very simple example showcasing the need for provenance in practice!"
      ],
      "metadata": {
        "id": "ujaRS3vi2hWK"
      }
    },
    {
      "cell_type": "code",
      "source": [
        "%matplotlib inline\n",
        "import matplotlib.pyplot as plt\n",
        "plt.style.use('seaborn-whitegrid')\n",
        "import numpy as np\n",
        "import pandas as pd"
      ],
      "metadata": {
        "colab": {
          "base_uri": "https://localhost:8080/"
        },
        "id": "yE8uGOnYwzQK",
        "outputId": "5c3cb9d7-fd82-47f5-f76e-0082ac317574"
      },
      "execution_count": 1,
      "outputs": [
        {
          "output_type": "stream",
          "name": "stderr",
          "text": [
            "<ipython-input-1-9edb724eaaec>:3: MatplotlibDeprecationWarning: The seaborn styles shipped by Matplotlib are deprecated since 3.6, as they no longer correspond to the styles shipped by seaborn. However, they will remain available as 'seaborn-v0_8-<style>'. Alternatively, directly use the seaborn API instead.\n",
            "  plt.style.use('seaborn-whitegrid')\n"
          ]
        }
      ]
    },
    {
      "cell_type": "markdown",
      "source": [
        "## Data\n",
        "\n",
        "I will provide you with some data. I will claim this shows the association between temperature measured during summer days in Copenhagen and how many scoops of ice cream I eat."
      ],
      "metadata": {
        "id": "oekuaT4m2gnY"
      }
    },
    {
      "cell_type": "code",
      "execution_count": 2,
      "metadata": {
        "id": "JyYi5TiawkNv"
      },
      "outputs": [],
      "source": [
        "rng = np.random.RandomState(1)\n",
        "x = 30 * rng.rand(50)\n",
        "y = 1/12 * x + rng.randn(50) + 1\n",
        "\n",
        "# ice cream consumption\n",
        "ICC = pd.DataFrame({'temperature [Celsius]': x,\n",
        "                       'ice cream [# scoops]': y})"
      ]
    },
    {
      "cell_type": "markdown",
      "source": [
        "We can look at the data inside the pandas dataframe:"
      ],
      "metadata": {
        "id": "X6a0X2xKFKND"
      }
    },
    {
      "cell_type": "code",
      "source": [
        "ICC"
      ],
      "metadata": {
        "colab": {
          "base_uri": "https://localhost:8080/",
          "height": 1000
        },
        "id": "3GYayacr4tZN",
        "outputId": "390cd8d8-fbb8-457a-d3fe-ef0a5c644679"
      },
      "execution_count": 3,
      "outputs": [
        {
          "output_type": "execute_result",
          "data": {
            "text/plain": [
              "    temperature [Celsius]  ice cream [# scoops]\n",
              "0               12.510660              1.355382\n",
              "1               21.609735              1.955606\n",
              "2                0.003431              0.329040\n",
              "3                9.069977              1.743167\n",
              "4                4.402677              0.249579\n",
              "5                2.770158              1.465262\n",
              "6                5.587806              3.125453\n",
              "7               10.366822              2.605946\n",
              "8               11.903024              1.800083\n",
              "9               16.164502              1.459413\n",
              "10              12.575835              1.300828\n",
              "11              20.556585              4.405503\n",
              "12               6.133567              1.561938\n",
              "13              26.343523              2.558298\n",
              "14               0.821628              1.259384\n",
              "15              20.114025              4.776424\n",
              "16              12.519144              2.163421\n",
              "17              16.760695              3.013928\n",
              "18               4.211608              1.651138\n",
              "19               5.943045              1.143004\n",
              "20              24.022337              1.859343\n",
              "21              29.047847              3.071311\n",
              "22               9.402725              1.574666\n",
              "23              20.769678              3.317430\n",
              "24              26.291675              4.029956\n",
              "25              26.838200              4.167619\n",
              "26               2.551326              1.498198\n",
              "27               1.171643              1.982778\n",
              "28               5.094913              0.670178\n",
              "29              26.344275              4.448224\n",
              "30               2.950405              1.758797\n",
              "31              12.633229              1.754676\n",
              "32              28.736686              3.883242\n",
              "33              15.994959              2.257341\n",
              "34              20.756313              3.861322\n",
              "35               9.465469              3.308606\n",
              "36              20.595028              4.901828\n",
              "37              25.038770              1.690068\n",
              "38               0.548648             -0.398393\n",
              "39              22.504329              2.370895\n",
              "40              29.665833              3.632190\n",
              "41              22.444970              3.746583\n",
              "42               8.413320              2.016745\n",
              "43              23.678380              0.950997\n",
              "44               3.096780              0.951861\n",
              "45              13.436806              2.947708\n",
              "46              27.257865              3.501583\n",
              "47               8.808424              2.496047\n",
              "48               8.633260              1.497110\n",
              "49               3.900857              1.124313"
            ],
            "text/html": [
              "\n",
              "  <div id=\"df-39d8c5ad-844b-4540-91e4-0c580d66ea7e\">\n",
              "    <div class=\"colab-df-container\">\n",
              "      <div>\n",
              "<style scoped>\n",
              "    .dataframe tbody tr th:only-of-type {\n",
              "        vertical-align: middle;\n",
              "    }\n",
              "\n",
              "    .dataframe tbody tr th {\n",
              "        vertical-align: top;\n",
              "    }\n",
              "\n",
              "    .dataframe thead th {\n",
              "        text-align: right;\n",
              "    }\n",
              "</style>\n",
              "<table border=\"1\" class=\"dataframe\">\n",
              "  <thead>\n",
              "    <tr style=\"text-align: right;\">\n",
              "      <th></th>\n",
              "      <th>temperature [Celsius]</th>\n",
              "      <th>ice cream [# scoops]</th>\n",
              "    </tr>\n",
              "  </thead>\n",
              "  <tbody>\n",
              "    <tr>\n",
              "      <th>0</th>\n",
              "      <td>12.510660</td>\n",
              "      <td>1.355382</td>\n",
              "    </tr>\n",
              "    <tr>\n",
              "      <th>1</th>\n",
              "      <td>21.609735</td>\n",
              "      <td>1.955606</td>\n",
              "    </tr>\n",
              "    <tr>\n",
              "      <th>2</th>\n",
              "      <td>0.003431</td>\n",
              "      <td>0.329040</td>\n",
              "    </tr>\n",
              "    <tr>\n",
              "      <th>3</th>\n",
              "      <td>9.069977</td>\n",
              "      <td>1.743167</td>\n",
              "    </tr>\n",
              "    <tr>\n",
              "      <th>4</th>\n",
              "      <td>4.402677</td>\n",
              "      <td>0.249579</td>\n",
              "    </tr>\n",
              "    <tr>\n",
              "      <th>5</th>\n",
              "      <td>2.770158</td>\n",
              "      <td>1.465262</td>\n",
              "    </tr>\n",
              "    <tr>\n",
              "      <th>6</th>\n",
              "      <td>5.587806</td>\n",
              "      <td>3.125453</td>\n",
              "    </tr>\n",
              "    <tr>\n",
              "      <th>7</th>\n",
              "      <td>10.366822</td>\n",
              "      <td>2.605946</td>\n",
              "    </tr>\n",
              "    <tr>\n",
              "      <th>8</th>\n",
              "      <td>11.903024</td>\n",
              "      <td>1.800083</td>\n",
              "    </tr>\n",
              "    <tr>\n",
              "      <th>9</th>\n",
              "      <td>16.164502</td>\n",
              "      <td>1.459413</td>\n",
              "    </tr>\n",
              "    <tr>\n",
              "      <th>10</th>\n",
              "      <td>12.575835</td>\n",
              "      <td>1.300828</td>\n",
              "    </tr>\n",
              "    <tr>\n",
              "      <th>11</th>\n",
              "      <td>20.556585</td>\n",
              "      <td>4.405503</td>\n",
              "    </tr>\n",
              "    <tr>\n",
              "      <th>12</th>\n",
              "      <td>6.133567</td>\n",
              "      <td>1.561938</td>\n",
              "    </tr>\n",
              "    <tr>\n",
              "      <th>13</th>\n",
              "      <td>26.343523</td>\n",
              "      <td>2.558298</td>\n",
              "    </tr>\n",
              "    <tr>\n",
              "      <th>14</th>\n",
              "      <td>0.821628</td>\n",
              "      <td>1.259384</td>\n",
              "    </tr>\n",
              "    <tr>\n",
              "      <th>15</th>\n",
              "      <td>20.114025</td>\n",
              "      <td>4.776424</td>\n",
              "    </tr>\n",
              "    <tr>\n",
              "      <th>16</th>\n",
              "      <td>12.519144</td>\n",
              "      <td>2.163421</td>\n",
              "    </tr>\n",
              "    <tr>\n",
              "      <th>17</th>\n",
              "      <td>16.760695</td>\n",
              "      <td>3.013928</td>\n",
              "    </tr>\n",
              "    <tr>\n",
              "      <th>18</th>\n",
              "      <td>4.211608</td>\n",
              "      <td>1.651138</td>\n",
              "    </tr>\n",
              "    <tr>\n",
              "      <th>19</th>\n",
              "      <td>5.943045</td>\n",
              "      <td>1.143004</td>\n",
              "    </tr>\n",
              "    <tr>\n",
              "      <th>20</th>\n",
              "      <td>24.022337</td>\n",
              "      <td>1.859343</td>\n",
              "    </tr>\n",
              "    <tr>\n",
              "      <th>21</th>\n",
              "      <td>29.047847</td>\n",
              "      <td>3.071311</td>\n",
              "    </tr>\n",
              "    <tr>\n",
              "      <th>22</th>\n",
              "      <td>9.402725</td>\n",
              "      <td>1.574666</td>\n",
              "    </tr>\n",
              "    <tr>\n",
              "      <th>23</th>\n",
              "      <td>20.769678</td>\n",
              "      <td>3.317430</td>\n",
              "    </tr>\n",
              "    <tr>\n",
              "      <th>24</th>\n",
              "      <td>26.291675</td>\n",
              "      <td>4.029956</td>\n",
              "    </tr>\n",
              "    <tr>\n",
              "      <th>25</th>\n",
              "      <td>26.838200</td>\n",
              "      <td>4.167619</td>\n",
              "    </tr>\n",
              "    <tr>\n",
              "      <th>26</th>\n",
              "      <td>2.551326</td>\n",
              "      <td>1.498198</td>\n",
              "    </tr>\n",
              "    <tr>\n",
              "      <th>27</th>\n",
              "      <td>1.171643</td>\n",
              "      <td>1.982778</td>\n",
              "    </tr>\n",
              "    <tr>\n",
              "      <th>28</th>\n",
              "      <td>5.094913</td>\n",
              "      <td>0.670178</td>\n",
              "    </tr>\n",
              "    <tr>\n",
              "      <th>29</th>\n",
              "      <td>26.344275</td>\n",
              "      <td>4.448224</td>\n",
              "    </tr>\n",
              "    <tr>\n",
              "      <th>30</th>\n",
              "      <td>2.950405</td>\n",
              "      <td>1.758797</td>\n",
              "    </tr>\n",
              "    <tr>\n",
              "      <th>31</th>\n",
              "      <td>12.633229</td>\n",
              "      <td>1.754676</td>\n",
              "    </tr>\n",
              "    <tr>\n",
              "      <th>32</th>\n",
              "      <td>28.736686</td>\n",
              "      <td>3.883242</td>\n",
              "    </tr>\n",
              "    <tr>\n",
              "      <th>33</th>\n",
              "      <td>15.994959</td>\n",
              "      <td>2.257341</td>\n",
              "    </tr>\n",
              "    <tr>\n",
              "      <th>34</th>\n",
              "      <td>20.756313</td>\n",
              "      <td>3.861322</td>\n",
              "    </tr>\n",
              "    <tr>\n",
              "      <th>35</th>\n",
              "      <td>9.465469</td>\n",
              "      <td>3.308606</td>\n",
              "    </tr>\n",
              "    <tr>\n",
              "      <th>36</th>\n",
              "      <td>20.595028</td>\n",
              "      <td>4.901828</td>\n",
              "    </tr>\n",
              "    <tr>\n",
              "      <th>37</th>\n",
              "      <td>25.038770</td>\n",
              "      <td>1.690068</td>\n",
              "    </tr>\n",
              "    <tr>\n",
              "      <th>38</th>\n",
              "      <td>0.548648</td>\n",
              "      <td>-0.398393</td>\n",
              "    </tr>\n",
              "    <tr>\n",
              "      <th>39</th>\n",
              "      <td>22.504329</td>\n",
              "      <td>2.370895</td>\n",
              "    </tr>\n",
              "    <tr>\n",
              "      <th>40</th>\n",
              "      <td>29.665833</td>\n",
              "      <td>3.632190</td>\n",
              "    </tr>\n",
              "    <tr>\n",
              "      <th>41</th>\n",
              "      <td>22.444970</td>\n",
              "      <td>3.746583</td>\n",
              "    </tr>\n",
              "    <tr>\n",
              "      <th>42</th>\n",
              "      <td>8.413320</td>\n",
              "      <td>2.016745</td>\n",
              "    </tr>\n",
              "    <tr>\n",
              "      <th>43</th>\n",
              "      <td>23.678380</td>\n",
              "      <td>0.950997</td>\n",
              "    </tr>\n",
              "    <tr>\n",
              "      <th>44</th>\n",
              "      <td>3.096780</td>\n",
              "      <td>0.951861</td>\n",
              "    </tr>\n",
              "    <tr>\n",
              "      <th>45</th>\n",
              "      <td>13.436806</td>\n",
              "      <td>2.947708</td>\n",
              "    </tr>\n",
              "    <tr>\n",
              "      <th>46</th>\n",
              "      <td>27.257865</td>\n",
              "      <td>3.501583</td>\n",
              "    </tr>\n",
              "    <tr>\n",
              "      <th>47</th>\n",
              "      <td>8.808424</td>\n",
              "      <td>2.496047</td>\n",
              "    </tr>\n",
              "    <tr>\n",
              "      <th>48</th>\n",
              "      <td>8.633260</td>\n",
              "      <td>1.497110</td>\n",
              "    </tr>\n",
              "    <tr>\n",
              "      <th>49</th>\n",
              "      <td>3.900857</td>\n",
              "      <td>1.124313</td>\n",
              "    </tr>\n",
              "  </tbody>\n",
              "</table>\n",
              "</div>\n",
              "      <button class=\"colab-df-convert\" onclick=\"convertToInteractive('df-39d8c5ad-844b-4540-91e4-0c580d66ea7e')\"\n",
              "              title=\"Convert this dataframe to an interactive table.\"\n",
              "              style=\"display:none;\">\n",
              "        \n",
              "  <svg xmlns=\"http://www.w3.org/2000/svg\" height=\"24px\"viewBox=\"0 0 24 24\"\n",
              "       width=\"24px\">\n",
              "    <path d=\"M0 0h24v24H0V0z\" fill=\"none\"/>\n",
              "    <path d=\"M18.56 5.44l.94 2.06.94-2.06 2.06-.94-2.06-.94-.94-2.06-.94 2.06-2.06.94zm-11 1L8.5 8.5l.94-2.06 2.06-.94-2.06-.94L8.5 2.5l-.94 2.06-2.06.94zm10 10l.94 2.06.94-2.06 2.06-.94-2.06-.94-.94-2.06-.94 2.06-2.06.94z\"/><path d=\"M17.41 7.96l-1.37-1.37c-.4-.4-.92-.59-1.43-.59-.52 0-1.04.2-1.43.59L10.3 9.45l-7.72 7.72c-.78.78-.78 2.05 0 2.83L4 21.41c.39.39.9.59 1.41.59.51 0 1.02-.2 1.41-.59l7.78-7.78 2.81-2.81c.8-.78.8-2.07 0-2.86zM5.41 20L4 18.59l7.72-7.72 1.47 1.35L5.41 20z\"/>\n",
              "  </svg>\n",
              "      </button>\n",
              "      \n",
              "  <style>\n",
              "    .colab-df-container {\n",
              "      display:flex;\n",
              "      flex-wrap:wrap;\n",
              "      gap: 12px;\n",
              "    }\n",
              "\n",
              "    .colab-df-convert {\n",
              "      background-color: #E8F0FE;\n",
              "      border: none;\n",
              "      border-radius: 50%;\n",
              "      cursor: pointer;\n",
              "      display: none;\n",
              "      fill: #1967D2;\n",
              "      height: 32px;\n",
              "      padding: 0 0 0 0;\n",
              "      width: 32px;\n",
              "    }\n",
              "\n",
              "    .colab-df-convert:hover {\n",
              "      background-color: #E2EBFA;\n",
              "      box-shadow: 0px 1px 2px rgba(60, 64, 67, 0.3), 0px 1px 3px 1px rgba(60, 64, 67, 0.15);\n",
              "      fill: #174EA6;\n",
              "    }\n",
              "\n",
              "    [theme=dark] .colab-df-convert {\n",
              "      background-color: #3B4455;\n",
              "      fill: #D2E3FC;\n",
              "    }\n",
              "\n",
              "    [theme=dark] .colab-df-convert:hover {\n",
              "      background-color: #434B5C;\n",
              "      box-shadow: 0px 1px 3px 1px rgba(0, 0, 0, 0.15);\n",
              "      filter: drop-shadow(0px 1px 2px rgba(0, 0, 0, 0.3));\n",
              "      fill: #FFFFFF;\n",
              "    }\n",
              "  </style>\n",
              "\n",
              "      <script>\n",
              "        const buttonEl =\n",
              "          document.querySelector('#df-39d8c5ad-844b-4540-91e4-0c580d66ea7e button.colab-df-convert');\n",
              "        buttonEl.style.display =\n",
              "          google.colab.kernel.accessAllowed ? 'block' : 'none';\n",
              "\n",
              "        async function convertToInteractive(key) {\n",
              "          const element = document.querySelector('#df-39d8c5ad-844b-4540-91e4-0c580d66ea7e');\n",
              "          const dataTable =\n",
              "            await google.colab.kernel.invokeFunction('convertToInteractive',\n",
              "                                                     [key], {});\n",
              "          if (!dataTable) return;\n",
              "\n",
              "          const docLinkHtml = 'Like what you see? Visit the ' +\n",
              "            '<a target=\"_blank\" href=https://colab.research.google.com/notebooks/data_table.ipynb>data table notebook</a>'\n",
              "            + ' to learn more about interactive tables.';\n",
              "          element.innerHTML = '';\n",
              "          dataTable['output_type'] = 'display_data';\n",
              "          await google.colab.output.renderOutput(dataTable, element);\n",
              "          const docLink = document.createElement('div');\n",
              "          docLink.innerHTML = docLinkHtml;\n",
              "          element.appendChild(docLink);\n",
              "        }\n",
              "      </script>\n",
              "    </div>\n",
              "  </div>\n",
              "  "
            ]
          },
          "metadata": {},
          "execution_count": 3
        }
      ]
    },
    {
      "cell_type": "markdown",
      "source": [
        "We can also easily visualize the data:"
      ],
      "metadata": {
        "id": "gTGkILNO4Wgw"
      }
    },
    {
      "cell_type": "code",
      "source": [
        "plt.scatter(ICC['temperature [Celsius]'], ICC['ice cream [# scoops]']);\n",
        "plt.xlabel('Temperature in Copenhagen [Celsisus]')\n",
        "plt.ylabel('Scoops of ice cream Melanie eats [# of scoops]')"
      ],
      "metadata": {
        "colab": {
          "base_uri": "https://localhost:8080/",
          "height": 463
        },
        "id": "tlN2ZVjl4S4X",
        "outputId": "6007c530-3438-488f-f8cd-9908c760c009"
      },
      "execution_count": 4,
      "outputs": [
        {
          "output_type": "execute_result",
          "data": {
            "text/plain": [
              "Text(0, 0.5, 'Scoops of ice cream Melanie eats [# of scoops]')"
            ]
          },
          "metadata": {},
          "execution_count": 4
        },
        {
          "output_type": "display_data",
          "data": {
            "text/plain": [
              "<Figure size 640x480 with 1 Axes>"
            ],
            "image/png": "[encoded data removed]"
          },
          "metadata": {}
        }
      ]
    },
    {
      "cell_type": "markdown",
      "source": [
        "We can also save the data as a .csv file."
      ],
      "metadata": {
        "id": "eg6pgupNE4H9"
      }
    },
    {
      "cell_type": "code",
      "source": [
        "ICC.to_csv('MelsIceCreamHabits.csv')"
      ],
      "metadata": {
        "id": "PPjqlXnuE5g-"
      },
      "execution_count": 5,
      "outputs": []
    },
    {
      "cell_type": "markdown",
      "source": [
        "## Conclusion of Melanie's Data Analysis\n",
        "\n",
        "Now I have analyzed this data and come to the following conlusion:\n",
        "\n",
        "Whenever the temperature hits 40 degrees Celsius in Copenhagen, Melanie will eat 5.7 scoops of ice cream."
      ],
      "metadata": {
        "id": "EnkyQLKR2ezY"
      }
    },
    {
      "cell_type": "markdown",
      "source": [
        "## Can you arrive at the same conclusion?\n",
        "\n",
        "Let's see if you can! I gave you the data and a simple problem, try and reproduce my \"scientific\" result."
      ],
      "metadata": {
        "id": "wH4oCR0J45fE"
      }
    },
    {
      "cell_type": "markdown",
      "source": [
        "# Solution\n",
        "## Straightforward solution\n",
        "\n",
        "Simple linear regression doesn't seem to tell me what was done."
      ],
      "metadata": {
        "id": "3z2s7WXj7jNT"
      }
    },
    {
      "cell_type": "code",
      "source": [
        "from sklearn.linear_model import LinearRegression\n",
        "model = LinearRegression(fit_intercept=True)\n",
        "\n",
        "model.fit(ICC[['temperature [Celsius]']], ICC['ice cream [# scoops]'])\n",
        "xfit = np.array([[40]])\n",
        "yfit = model.predict(xfit)\n",
        "print('At a temparature of '+str(xfit)+' degrees Celsius, Melanie eats '+str(yfit)+' scoops of ice cream.')\n",
        "\n",
        "plt.scatter(ICC['temperature [Celsius]'], ICC['ice cream [# scoops]']);\n",
        "plt.scatter(xfit[0][0], yfit[0]);\n",
        "plt.xlabel('Temperature in Copenhagen [Celsisus]')\n",
        "plt.ylabel('Scoops of ice cream Melanie eats [# of scoops]')"
      ],
      "metadata": {
        "colab": {
          "base_uri": "https://localhost:8080/",
          "height": 535
        },
        "id": "XiLtV3B42fIo",
        "outputId": "6d5e9aa9-0b48-4cd5-cb21-448f494ccece"
      },
      "execution_count": 6,
      "outputs": [
        {
          "output_type": "stream",
          "name": "stdout",
          "text": [
            "At a temparature of [[40]] degrees Celsius, Melanie eats [4.69754039] scoops of ice cream.\n"
          ]
        },
        {
          "output_type": "stream",
          "name": "stderr",
          "text": [
            "/usr/local/lib/python3.10/dist-packages/sklearn/base.py:439: UserWarning: X does not have valid feature names, but LinearRegression was fitted with feature names\n",
            "  warnings.warn(\n"
          ]
        },
        {
          "output_type": "execute_result",
          "data": {
            "text/plain": [
              "Text(0, 0.5, 'Scoops of ice cream Melanie eats [# of scoops]')"
            ]
          },
          "metadata": {},
          "execution_count": 6
        },
        {
          "output_type": "display_data",
          "data": {
            "text/plain": [
              "<Figure size 640x480 with 1 Axes>"
            ],
            "image/png": "[encoded data removed]"
          },
          "metadata": {}
        }
      ]
    },
    {
      "cell_type": "markdown",
      "source": [
        "## Undocumented data cleaning\n",
        "\n",
        "Initially there were some outliers in my data. For example a negative scoop of ice cream doesn't make sense. So I actually removed that data point from my data frame."
      ],
      "metadata": {
        "id": "mbCrGmWvH-og"
      }
    },
    {
      "cell_type": "code",
      "source": [
        "ICC_clean = ICC[ICC['ice cream [# scoops]']>0]"
      ],
      "metadata": {
        "id": "MPRYYMP6IDnt"
      },
      "execution_count": 7,
      "outputs": []
    },
    {
      "cell_type": "markdown",
      "source": [
        "Now I can build the same model as I did before:"
      ],
      "metadata": {
        "id": "NyQ8sb_EINr5"
      }
    },
    {
      "cell_type": "code",
      "source": [
        "from sklearn.linear_model import LinearRegression\n",
        "model = LinearRegression(fit_intercept=True)\n",
        "\n",
        "model.fit(ICC_clean[['temperature [Celsius]']], ICC_clean['ice cream [# scoops]'])\n",
        "xfit = np.array([[40]])\n",
        "yfit = model.predict(xfit)\n",
        "print('At a temparature of '+str(xfit)+' degrees Celsius, Melanie eats '+str(yfit)+' scoops of ice cream.')\n",
        "\n",
        "plt.scatter(ICC_clean['temperature [Celsius]'], ICC_clean['ice cream [# scoops]']);\n",
        "plt.scatter(xfit[0][0], yfit[0]);\n",
        "plt.xlabel('Temperature in Copenhagen [Celsisus]')\n",
        "plt.ylabel('Scoops of ice cream Melanie eats [# of scoops]')"
      ],
      "metadata": {
        "colab": {
          "base_uri": "https://localhost:8080/",
          "height": 535
        },
        "id": "Qn4ysXUfIJk0",
        "outputId": "5f3bef51-b4dd-429e-f84a-5133039202e5"
      },
      "execution_count": 8,
      "outputs": [
        {
          "output_type": "stream",
          "name": "stdout",
          "text": [
            "At a temparature of [[40]] degrees Celsius, Melanie eats [4.59934032] scoops of ice cream.\n"
          ]
        },
        {
          "output_type": "stream",
          "name": "stderr",
          "text": [
            "/usr/local/lib/python3.10/dist-packages/sklearn/base.py:439: UserWarning: X does not have valid feature names, but LinearRegression was fitted with feature names\n",
            "  warnings.warn(\n"
          ]
        },
        {
          "output_type": "execute_result",
          "data": {
            "text/plain": [
              "Text(0, 0.5, 'Scoops of ice cream Melanie eats [# of scoops]')"
            ]
          },
          "metadata": {},
          "execution_count": 8
        },
        {
          "output_type": "display_data",
          "data": {
            "text/plain": [
              "<Figure size 640x480 with 1 Axes>"
            ],
            "image/png": "[encoded data removed]"
          },
          "metadata": {}
        }
      ]
    },
    {
      "cell_type": "markdown",
      "source": [
        "## Undocumented model assumptions\n",
        "\n",
        "Now of course I assumed that at zero temperature I would eat zero ice-cream. So I set the intercept to \"False\" and forced it through zero."
      ],
      "metadata": {
        "id": "cvMbSI2S7Wud"
      }
    },
    {
      "cell_type": "code",
      "source": [
        "from sklearn.linear_model import LinearRegression\n",
        "model = LinearRegression(fit_intercept=False)\n",
        "\n",
        "model.fit(ICC_clean[['temperature [Celsius]']], ICC_clean['ice cream [# scoops]'])\n",
        "xfit = np.array([[40]])\n",
        "yfit = model.predict(xfit)\n",
        "print('At a temparature of '+str(xfit)+' degrees Celsius, Melanie eats '+str(yfit)+' scoops of ice cream.')\n",
        "\n",
        "plt.scatter(ICC_clean['temperature [Celsius]'], ICC_clean['ice cream [# scoops]']);\n",
        "plt.scatter(xfit[0][0], yfit[0]);\n",
        "plt.xlabel('Temperature in Copenhagen [Celsisus]')\n",
        "plt.ylabel('Scoops of ice cream Melanie eats [# of scoops]')"
      ],
      "metadata": {
        "colab": {
          "base_uri": "https://localhost:8080/",
          "height": 535
        },
        "outputId": "57dc9a64-7e31-4785-9a20-14471fa42653",
        "id": "PS4YNbud64Kg"
      },
      "execution_count": 9,
      "outputs": [
        {
          "output_type": "stream",
          "name": "stdout",
          "text": [
            "At a temparature of [[40]] degrees Celsius, Melanie eats [5.70006751] scoops of ice cream.\n"
          ]
        },
        {
          "output_type": "stream",
          "name": "stderr",
          "text": [
            "/usr/local/lib/python3.10/dist-packages/sklearn/base.py:439: UserWarning: X does not have valid feature names, but LinearRegression was fitted with feature names\n",
            "  warnings.warn(\n"
          ]
        },
        {
          "output_type": "execute_result",
          "data": {
            "text/plain": [
              "Text(0, 0.5, 'Scoops of ice cream Melanie eats [# of scoops]')"
            ]
          },
          "metadata": {},
          "execution_count": 9
        },
        {
          "output_type": "display_data",
          "data": {
            "text/plain": [
              "<Figure size 640x480 with 1 Axes>"
            ],
            "image/png": "[encoded data removed]"
          },
          "metadata": {}
        }
      ]
    },
    {
      "cell_type": "markdown",
      "source": [
        "Through some trial and error, I have arrived at the right solution! But even though this was such a simple problem, it took quite some time to understand and redo the analysis. Imagine what can happen if the analysis is more complicated!\n",
        "Therefore provenance of data and analysis are important steps when working with data and producing scientific analysis."
      ],
      "metadata": {
        "id": "XSt3B_0YIuQO"
      }
    }
  ]
}